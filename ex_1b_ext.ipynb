{
 "cells": [
  {
   "cell_type": "markdown",
   "metadata": {},
   "source": [
    "# A calculation of the order of convergence when the limit value is unknown"
   ]
  },
  {
   "cell_type": "markdown",
   "metadata": {},
   "source": [
    "## _This problem is an optional extension of the previous exercise sheets_"
   ]
  },
  {
   "cell_type": "markdown",
   "metadata": {},
   "source": [
    "Assume we have determined numerically an approximate value $f_{\\Delta x}$ of a function (for example, of a derivative) using a numerical mesh with grid cells $\\Delta x$. We say that a numerical approximation converges toward a limit value $f_{lim}$ with $m$-order approximation if we can write to leading order for all $\\Delta x$ which are sufficiently small."
   ]
  },
  {
   "cell_type": "markdown",
   "metadata": {},
   "source": [
    "$$f_{\\Delta x} = f_{lim} + A(\\Delta x)^m  \\tag{1}$$"
   ]
  },
  {
   "cell_type": "markdown",
   "metadata": {},
   "source": [
    "with $A$ a constant. If the global domain in $x$ has length $L$ and has been divided into $N$ intervals (so that  $\\Delta x = L/N$), then we have:"
   ]
  },
  {
   "cell_type": "markdown",
   "metadata": {},
   "source": [
    "$$f_N = f_{lim} + A\\left(\\frac{L}{N}\\right)^m  \\tag{2}$$"
   ]
  },
  {
   "cell_type": "markdown",
   "metadata": {},
   "source": [
    "From there it is straightforward to obtain:"
   ]
  },
  {
   "cell_type": "markdown",
   "metadata": {},
   "source": [
    "$$\\frac{f_{4N}-f_{2N}}{f_{2N}-f_{N}} = \\frac{4^{m}-2^{m}}{2^{m}-1} = 2^{m}  \\tag{3}$$"
   ]
  },
  {
   "cell_type": "markdown",
   "metadata": {},
   "source": [
    "or, in other words,"
   ]
  },
  {
   "cell_type": "markdown",
   "metadata": {},
   "source": [
    "$$m = \\log\\left(\\frac{f_{4N}-f_{2N}}{f_{2N}-f_{N}}\\right)/\\log2  \\tag{4}$$"
   ]
  },
  {
   "cell_type": "markdown",
   "metadata": {},
   "source": [
    "with log the natural logarithm. Thus, if we obtain a numerical value for a function at a given point with increasing order of approximation using $N$, $2N$, and $4N$ intervals in a given domain, we can calculate the order $m$ of the approximation using Eq. (4) without having to know in advance the exact analytical limit value. Test this method with `np.deriv_cent` and `np.deriv_4tho` and fill in `nm.order_conv`."
   ]
  },
  {
   "cell_type": "code",
   "execution_count": null,
   "metadata": {},
   "outputs": [],
   "source": [
    "# import numpy as np\n",
    "# import importlib\n",
    "# from nm_lib import nm_lib as nm\n",
    "# importlib.reload(nm)\n",
    "# import matplotlib.pyplot as plt\n",
    "\n",
    "# import import_ipynb\n",
    "# import ex_1b_v1_5 as ex1b"
   ]
  },
  {
   "cell_type": "code",
   "execution_count": null,
   "metadata": {},
   "outputs": [],
   "source": [
    "# N = 128\n",
    "# nints = [N, 2*N, 4*N]\n",
    "# hp_4tho = []\n",
    "# hp_cent = []\n",
    "# for nint in nints:\n",
    "#     xx, dx = ex1b.get_xx(nint)\n",
    "#     hh = ex1b.get_h(xx)\n",
    "#     hp_4tho.append(nm.deriv_4tho(xx, hh, method=\"roll\"))\n",
    "#     hp_cent.append(nm.deriv_cent(xx, hh, method=\"roll\"))\n",
    "\n",
    "# print(\"Check for zero in denominator\")\n",
    "# print(\"4tho\", np.any(np.isclose(hp_4tho[1][::2]-hp_4tho[0],0)))\n",
    "# print(\"cent\", np.any(np.isclose(hp_cent[1][::2]-hp_cent[0],0)))\n",
    "\n",
    "# xx, dx = ex1b.get_xx(N)\n",
    "# fig, ax = plt.subplots()\n",
    "# ax.plot(xx[2:-2], nm.order_conv(*hp_4tho)[2:-2],label=\"4tho\")\n",
    "# ax.plot(xx[1:-1], nm.order_conv(*hp_cent)[1:-1],label=\"cent\")\n",
    "# ax.axhline(y=-2,lw=0.5,ls=\"--\")\n",
    "# ax.axhline(y=-4,lw=0.5,ls=\"--\")\n",
    "# ax.legend()\n",
    "# ax.set_ylabel(\"Order of convergence\")\n",
    "# ax.set_xlabel(\"x\");"
   ]
  },
  {
   "attachments": {},
   "cell_type": "markdown",
   "metadata": {},
   "source": [
    "### Comments\n",
    "In my implementation of `nm_lib.order_conv` I've just used the base 2 logarithm instead of the natural, and sliced every 4th and 2nd element for `hh4` and `hh2` to get it on the same shape as `hh`. Here I've made a script testing the implementation on the 4th order and central differentiation schemes. I expected to get an array with values close to four and two for the two respective cases, but instead I get negative values. Im not sure why this is the case, but I suspect it may be caused by the slicing. Numerically it makes sense, as we take the log of a small value, but from the derivation of Eq. 4 I expected it to be positiv.\n",
    "\n",
    "I've plotted the order of convergence against the x-coordinate here, removing the ill-behaved boundaries. The middle point is missing as the denominator in Eq. 4 is very close to being zero here, and thus the value we want to take the logarithm of approaches `inf`."
   ]
  },
  {
   "attachments": {},
   "cell_type": "markdown",
   "metadata": {},
   "source": [
    "<span style=\"color:green\">JMS</span>.\n",
    "\n",
    "<span style=\"color:blue\">GREAT JOB! What I like about this method is that it also shows the spatial error. Great that you realized that you have to remove n number of the points at the boundaries depending on the method. If I'm not mistaken the -2 is because it comes from $1/dx^2$. Does it make sense to you? </span>.\n"
   ]
  },
  {
   "cell_type": "markdown",
   "metadata": {},
   "source": []
  }
 ],
 "metadata": {
  "kernelspec": {
   "display_name": "ast9110",
   "language": "python",
   "name": "python3"
  },
  "language_info": {
   "codemirror_mode": {
    "name": "ipython",
    "version": 3
   },
   "file_extension": ".py",
   "mimetype": "text/x-python",
   "name": "python",
   "nbconvert_exporter": "python",
   "pygments_lexer": "ipython3",
   "version": "3.10.9 (main, Jan 11 2023, 09:18:20) [Clang 14.0.6 ]"
  },
  "vscode": {
   "interpreter": {
    "hash": "6c9a166da8e4ec0420a7bdc4156e952a1692b305bda74516019c069456b6fa09"
   }
  }
 },
 "nbformat": 4,
 "nbformat_minor": 4
}
