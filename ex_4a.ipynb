{
 "cells": [
  {
   "cell_type": "markdown",
   "metadata": {},
   "source": [
    "# Stabilities and accuracy in time. "
   ]
  },
  {
   "cell_type": "markdown",
   "metadata": {},
   "source": [
    "Lets consider same setup as in [ex_3a](https://github.com/AST-Course/AST5110/blob/main/ex_3a.ipynb) Burgers’ equation, i.e.,\n",
    "\n",
    "$$\\frac{\\partial u}{\\partial t} + u \\frac{\\partial u}{\\partial x} = 0   \\tag{1}$$ \n",
    "\n",
    "for the domain $x \\in (x_0, x_f)$ with $x_0 = −1.4$, $x_f = 2.0$ with initial condition:\n",
    "\n",
    "$$u(x,t=0) = A\\left[\\tanh\\left(\\frac{x+x_c}{W}\\right)-\\tanh\\left(\\frac{x-x_c}{W}\\right)\\right]   \\tag{2}$$\n",
    "\n",
    "whereby $A = 0.02$ , $x_c = 0.70$, $W = 0.1$. Let the solution evolve until time $t_f = 100$. Explain in physical (or mathematical) terms the solution you get. However, let's now implement a new time-step method. \n",
    "\n",
    "Add the following method to your library and run the previous simulation. \n",
    "\n",
    "$$u^{n+1}_j = \\frac{1}{2}(u^n_{j+1} + u^n_{j-1}) - \\frac{v \\Delta t}{2 \\Delta x}(u^n_{j+1} - u^n_{j-1})$$\n",
    "\n",
    "Apply von Neumann stability analysis to the expression above. The stability condition $|\\xi(k)|^2 \\leq 1$ leads to the famous Courant-Friedrichs-Lewy (CFL) stability. \n",
    "\n",
    "Add this to your library and solve the previous simulation imposing the CFL condition. For this exercise, fill in `nm_lib` the function `evolv_Lax_uadv_burgers`. "
   ]
  },
  {
   "cell_type": "code",
   "execution_count": null,
   "metadata": {},
   "outputs": [],
   "source": [
    "import numpy as np\n",
    "import matplotlib.pyplot as plt\n",
    "from IPython.display import HTML\n",
    "from importlib import reload\n",
    "\n",
    "from nm_lib import nm_lib as nm, utils as utils\n",
    "reload(nm);\n",
    "\n",
    "plt.style.use(\"fast\")\n",
    "\n",
    "def get_uadv_t0(xx: np.ndarray, A: float = 0.02, W: float = 0.1, xc: float = 0.7, B: float = 0) -> np.ndarray:\n",
    "    tanh_term = np.tanh((xx+xc)/W) - np.tanh((xx-xc)/W)\n",
    "    return A*tanh_term + B"
   ]
  },
  {
   "cell_type": "code",
   "execution_count": null,
   "metadata": {},
   "outputs": [],
   "source": [
    "if __name__ == \"__main__\":\n",
    "    x0 = -1.4\n",
    "    xf = 2.0\n",
    "    nint = 256*2\n",
    "    tf = 100\n",
    "\n",
    "    xx, _ = utils.get_xx(nint, x0, xf)\n",
    "    uut0 = get_uadv_t0(xx)\n",
    "    tt, uunt = nm.evolv_Lax_uadv_burgers(xx, uut0, ddx = nm.deriv_cent, bnd_limits=[1,1], end_time=tf, cfl_cut=0.98)\n",
    "    print(tt[-1])\n",
    "\n",
    "    anim = utils.animate_u(tt[::16], uunt[::16], xx, initial=uut0)\n",
    "    display(HTML(anim.to_jshtml()))\n",
    "    plt.close()"
   ]
  },
  {
   "cell_type": "code",
   "execution_count": null,
   "metadata": {},
   "outputs": [],
   "source": [
    "if __name__ == \"__main__\":\n",
    "    x0 = -1.4\n",
    "    xf = 2.0\n",
    "    nint = 256*2\n",
    "    tf = 100\n",
    "\n",
    "    xx, _ = utils.get_xx(nint, x0, xf)\n",
    "    uut0 = get_uadv_t0(xx)\n",
    "    tt, uunt = nm.evolv_Lax_uadv_burgers(xx, uut0, ddx = nm.deriv_cent, bnd_limits=[1,1], end_time=tf, cfl_cut=0.3)\n",
    "    print(tt[-1])\n",
    "\n",
    "    anim = utils.animate_u(tt[::16], uunt[::16], xx, initial=uut0)\n",
    "    display(HTML(anim.to_jshtml()))\n",
    "    plt.close()"
   ]
  },
  {
   "attachments": {},
   "cell_type": "markdown",
   "metadata": {},
   "source": [
    "<span style=\"color:Orange\">\n",
    "\n",
    "### Von Neumann analysis\n",
    "\n",
    "Solution on form $u_j^n = \\xi^n e^{ikj\\Delta x}$, require $\\left|\\xi(k)\\right|<1$ for stability. Apply von Neumann on Lax–Friedrichs method:\n",
    "\n",
    "We have\n",
    "\n",
    "\\begin{align*}\n",
    "u_j^{n+1}   &= \\xi^{n+1}e^{ijk\\Delta x}\\\\\n",
    "u_j^{n}     &= \\xi^n e^{ijk\\Delta x}\\\\\n",
    "u_{j+1}^{n} &= \\xi^n e^{ijk\\Delta x}e^{ik\\Delta x}\\\\\n",
    "u_{j-1}^{n} &= \\xi^n e^{ijk\\Delta x}e^{-ik\\Delta x}\\\\\n",
    "\\end{align*}\n",
    "\n",
    "so\n",
    "\n",
    "\\begin{align}\n",
    "\\xi^{n+1}e^{ijk\\Delta x} &= \\frac{1}{2}\\left(\\xi^n e^{ijk\\Delta x}e^{ik\\Delta x} +  \\xi^n e^{ijk\\Delta x}e^{-ik\\Delta x}\\right) - \\frac{v\\Delta t}{2 \\Delta x} \\left(\\xi^n e^{ijk\\Delta x}e^{ik\\Delta x} -  \\xi^n e^{ijk\\Delta x}e^{-ik\\Delta x}\\right) \\\\\n",
    "&= \\frac{1}{2}\\xi^n e^{ijk\\Delta x} \\left(e^{ik\\Delta x} + e^{-ik\\Delta x} \\right) - \\frac{v\\Delta t}{2 \\Delta x}\\xi^n e^{ijk\\Delta x} \\left(e^{ik\\Delta x} - e^{-ik\\Delta x}\\right)\n",
    "\\quad \\quad \\big| \\cdot \\xi^{-n}e^{-ijk\\Delta x} \\\\\n",
    "\\xi &= \\frac{1}{2} \\left(e^{ik\\Delta x} + e^{-ik\\Delta x} \\right) - \\frac{v\\Delta t}{2 \\Delta x}\\left(e^{ik\\Delta x} - e^{-ik\\Delta x}\\right)\n",
    "\\end{align}\n",
    "\n",
    "using that $\\cos(x) = \\frac{e^{ix}+e^{-ix}}{2}$ and $\\sin(x) = \\frac{e^{ix}-e^{-ix}}{i2}$, and requiring $\\left|\\xi(k)\\right|<1$ for all $k$ we have\n",
    "\n",
    "\\begin{align}\n",
    "\\xi &= \\cos(k\\Delta x) - \\frac{v\\Delta t}{2 \\Delta x} i \\sin(k\\Delta x) \\\\\n",
    "\\left|\\xi\\right| &= \\sqrt{\\cos^2(k\\Delta x) + \\left(-\\frac{v\\Delta t}{2 \\Delta x} \\sin(k\\Delta x)\\right)^2 } <1\n",
    "\\end{align}\n",
    "\n",
    "Max instability may occur for $k\\Delta x = m \\frac{\\pi}{2}$ for $m\\in \\mathbb{Z}$, then $\\cos^2(m\\frac{\\pi}{2}) = 0$ and $\\sin^2(m\\frac{\\pi}{2}) =1$ so we must have $\\left|\\frac{v\\Delta t}{\\Delta x}\\right| <1$ for $\\left|\\xi(k)\\right|<1$ for all $k$, or $$\\Delta t < \\left|\\frac{\\Delta x}{v}\\right|.$$"
   ]
  },
  {
   "cell_type": "markdown",
   "metadata": {},
   "source": [
    "## 1- Diffusive. \n",
    "\n",
    "Redo the exercise [ex_2b](https://github.com/AST-Course/AST5110/blob/main/ex_2b.ipynb) and compare the two methods, i.e., one from \n",
    "[ex_2b](https://github.com/AST-Course/AST5110/blob/main/ex_2b.ipynb) and the Lax-Method. \n",
    "\n",
    "Which one is more diffusive? Why? Rewrite Lax-method, so the right-hand side is as follows: \n",
    "\n",
    "$$\\frac{u^{n+1}-u^{n}}{\\Delta t} = ...$$\n",
    "\n",
    "What is the reminder term look like? Is the order of convergence the same for the two methods? "
   ]
  },
  {
   "cell_type": "markdown",
   "metadata": {},
   "source": [
    "---\n",
    "\n",
    "(\\*) Equation (1) is, in fact, a shortened version of the full Burgers’ equation, which contains a viscosity term on the right-hand side, as follows:\n",
    "$$\\frac{\\partial u}{\\partial t} + u \\frac{\\partial u}{\\partial x} = \\nu \\frac{\\partial^2 u}{\\partial x^2}.$$"
   ]
  }
 ],
 "metadata": {
  "kernelspec": {
   "display_name": "ast9110",
   "language": "python",
   "name": "python3"
  },
  "language_info": {
   "codemirror_mode": {
    "name": "ipython",
    "version": 3
   },
   "file_extension": ".py",
   "mimetype": "text/x-python",
   "name": "python",
   "nbconvert_exporter": "python",
   "pygments_lexer": "ipython3",
   "version": "3.10.9"
  },
  "vscode": {
   "interpreter": {
    "hash": "6c9a166da8e4ec0420a7bdc4156e952a1692b305bda74516019c069456b6fa09"
   }
  }
 },
 "nbformat": 4,
 "nbformat_minor": 4
}
