{
 "cells": [
  {
   "cell_type": "markdown",
   "metadata": {},
   "source": [
    "# Preparation of the first numerical solution of a space-time partial differential equation: Study of the advection equation (JMS Convert to Rieman Solver scheme ex_4c). "
   ]
  },
  {
   "cell_type": "markdown",
   "metadata": {},
   "source": [
    "We study the solutions of the equation"
   ]
  },
  {
   "cell_type": "markdown",
   "metadata": {},
   "source": [
    "$$\\frac{\\partial u}{\\partial t} + a \\frac{\\partial u}{\\partial x} = 0  \\tag{1}$$"
   ]
  },
  {
   "cell_type": "markdown",
   "metadata": {},
   "source": [
    "with initial condition"
   ]
  },
  {
   "cell_type": "markdown",
   "metadata": {},
   "source": [
    "$$u(x,t=0) = u_0(x)  \\tag{2}$$"
   ]
  },
  {
   "cell_type": "markdown",
   "metadata": {},
   "source": [
    "In the following, $a$ will be called the advection speed."
   ]
  },
  {
   "cell_type": "markdown",
   "metadata": {},
   "source": [
    "## 1 – Solution for constant advection speed."
   ]
  },
  {
   "cell_type": "markdown",
   "metadata": {},
   "source": [
    "Prove that, when $a=const$, the function $u(x, t) = u_0(x − at)$ is an exact solution of equation (1). Interpret this fact as a rigid motion of the solution with velocity $a$. Consider an arbitrary point, $x_0$, at time $t = 0$. Imagine that, starting at $x_0$; we follow at all later times the points in which the function equals $u(x, t) = u(x_0, 0)$. Which trajectory shall we obtain in the plane $t - x$ (i.e., in space-time)?"
   ]
  },
  {
   "attachments": {},
   "cell_type": "markdown",
   "metadata": {},
   "source": [
    "### Solution\n",
    "I'll prove the exact solution by inserting it into equation (1). I've always thought the way of writing out the steps involved when we physicists are working with partial derivatives have been a bit scethcy, so any pointers on the notation is welcome.\n",
    "\n",
    "I'll denote the exact solution as $u(x,t) = u_0(x-at) = w(y)$ where $y(x,t)=x-at$. Also, let $u_i = \\partial_i u = \\frac{\\partial u}{\\partial i}$. As $w$ is a function of only one variable, $\\partial_y w = \\frac{dw}{dy} = w'$. Then each partial derivative is found as\n",
    "$$u_t = \\partial_t w(y) = \\partial_y w \\partial_t y = -aw'$$\n",
    "$$u_x = \\partial_y w \\partial_x y = w'$$\n",
    "Which satisfies equation (1):\n",
    "$$u_t + a u_x = -aw' + aw' = 0$$\n",
    "\n",
    "From the interpretation of the solution as a rigid motion with velocity $a$, we already know that a specific point on the initial curve $u_0(x)$ in the plane u-x will move to the left (right if $a<0$) with speed $a$. If $a$ is constant that means the x-coordinates of the line of points $(x,t)$ where $u(x,t)=u(x_0,0)=u_0(x_0)$ must be linear in $t$ with slope $a$, and so the trajectory in the plane t-x must be a straight line with slope $1/a$. To find the exact trajectory starting from a point $x_0$ we can use that these points are defined as where $w(y(x,t)) = w(y(x_0,0))$ so $y(x,t)$ must be equal $y(x_0,0)$. That means\n",
    "$$ x-at = x_0\n",
    "\\\\\n",
    "x(t) = x_0 + at \\quad,\\quad t(x) = \\frac{x-x_0}{a}\n",
    "$$"
   ]
  },
  {
   "cell_type": "markdown",
   "metadata": {},
   "source": [
    "## 2 – Solution for non-constant advection speed of the type $a(x, t)$"
   ]
  },
  {
   "cell_type": "markdown",
   "metadata": {},
   "source": [
    "Consider now a non-constant advection velocity of the form $a(x, t)$ and the trajectories, $x_p(t)$, in space-time of points that move with velocity $a$, i.e.:"
   ]
  },
  {
   "cell_type": "markdown",
   "metadata": {},
   "source": [
    "$$\n",
    "\\begin{cases}\n",
    "    \\frac{d x_p}{d t} = a[x_p(t),t],  \\\\\n",
    "    x(t=0) = x_0 \n",
    "\\end{cases}\n",
    "$$"
   ]
  },
  {
   "cell_type": "markdown",
   "metadata": {},
   "source": [
    "Prove that the solution to eq. (1) is constant along these trajectories. If a is non-uniform, what does the preceding imply for the shape of the function $u$ as time progresses?"
   ]
  },
  {
   "cell_type": "markdown",
   "metadata": {},
   "source": [
    "## 3 – The acceleration of a fluid and Burgers’ equation,"
   ]
  },
  {
   "cell_type": "markdown",
   "metadata": {},
   "source": [
    "$$\\frac{\\partial u}{\\partial t} + u \\frac{\\partial u}{\\partial x} = 0  \\tag{3}$$"
   ]
  },
  {
   "cell_type": "markdown",
   "metadata": {},
   "source": [
    "**Note:**\n",
    "    to be precise, the complete Burgers’ equation ($*$) has an additional second-order term that acts like a viscosity. Eq. (3) is called the inviscid Burgers’ equation.\n"
   ]
  },
  {
   "cell_type": "markdown",
   "metadata": {},
   "source": [
    "Assume that the velocity of a certain fluid at point $x$ and time $t$ is given by the function $u(x, t)$ that solves Eq. (3). If so, an arbitrary fluid element must follow the trajectory $x_L(t)$ that satisfies the following condition:"
   ]
  },
  {
   "cell_type": "markdown",
   "metadata": {},
   "source": [
    "$$\\frac{d x_L}{dt} = u[x_L(t),t]  \\tag{4}$$"
   ]
  },
  {
   "cell_type": "markdown",
   "metadata": {},
   "source": [
    "Calculate the acceleration of that fluid element by taking the derivative with respect to $t$ of both sides of equation (4) and using eq (4) again in the result."
   ]
  },
  {
   "cell_type": "markdown",
   "metadata": {},
   "source": [
    "1. Compare what you obtain with the left-hand side of Burgers’ equation.\n",
    "2. If a velocity field $u(x, t)$ satisfies Burgers’ equation, what will be the acceleration of the individual fluid elements?\n",
    "3. Considering the trajectory $x_L(t) = x_0 + u_0 t$, where $u_0 = u(t = 0, x_0)$, convince yourself, based on the preceding results, that the solution of Burgers’ equation must be constant along those points."
   ]
  },
  {
   "cell_type": "markdown",
   "metadata": {},
   "source": [
    "**Note:** \n",
    "    ($*$) The name of the equation refers to the Dutch mathematician Jan Martinus Burgers (1895-1981)."
   ]
  },
  {
   "cell_type": "code",
   "execution_count": null,
   "metadata": {},
   "outputs": [],
   "source": []
  }
 ],
 "metadata": {
  "kernelspec": {
   "display_name": "ast9110",
   "language": "python",
   "name": "python3"
  },
  "language_info": {
   "codemirror_mode": {
    "name": "ipython",
    "version": 3
   },
   "file_extension": ".py",
   "mimetype": "text/x-python",
   "name": "python",
   "nbconvert_exporter": "python",
   "pygments_lexer": "ipython3",
   "version": "3.10.9 (main, Jan 11 2023, 09:18:20) [Clang 14.0.6 ]"
  },
  "vscode": {
   "interpreter": {
    "hash": "6c9a166da8e4ec0420a7bdc4156e952a1692b305bda74516019c069456b6fa09"
   }
  }
 },
 "nbformat": 4,
 "nbformat_minor": 4
}
