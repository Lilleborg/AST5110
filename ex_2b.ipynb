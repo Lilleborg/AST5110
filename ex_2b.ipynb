{
 "cells": [
  {
   "cell_type": "markdown",
   "metadata": {},
   "source": [
    "# A first example of a numerical simulation"
   ]
  },
  {
   "cell_type": "markdown",
   "metadata": {},
   "source": [
    "In this exercise, you will conduct a first instance of numerical simulation of the time evolution of a system. We will solve an advection equation of the form"
   ]
  },
  {
   "cell_type": "markdown",
   "metadata": {},
   "source": [
    "$$\\frac{\\partial u}{\\partial t} + a \\frac{\\partial u}{\\partial x} = 0  \\tag{1}$$"
   ]
  },
  {
   "cell_type": "markdown",
   "metadata": {},
   "source": [
    "with $a$ being a __constant__. In subsequent exercises, more general cases will be considered, with $a$ no longer constant."
   ]
  },
  {
   "cell_type": "code",
   "execution_count": null,
   "metadata": {},
   "outputs": [],
   "source": [
    "import numpy as np\n",
    "import matplotlib.pyplot as plt\n",
    "from nm_lib import nm_lib as nm, utils as utils\n",
    "from importlib import reload\n",
    "from matplotlib import animation\n",
    "from matplotlib.animation import FuncAnimation\n",
    "from IPython.display import HTML\n",
    "    \n",
    "# Define some simple global matplotlib settings\n",
    "plt.rcParams.update(\n",
    "    {\"font.size\" : \"15\",\n",
    "     \"font.family\"          : \"STIXGeneral\",\n",
    "     \"mathtext.fontset\"     : \"stix\",\n",
    "     \"figure.autolayout\"    : \"True\",\n",
    "     \"figure.figsize\"       : (7,7),\n",
    "     \"lines.markersize\"     : 10,\n",
    "     }\n",
    ")\n",
    "\n",
    "def get_uu_t0(xx: np.ndarray) -> np.ndarray:\n",
    "    nom = np.cos(6*np.pi*xx/5)**2\n",
    "    den = np.cosh(5*xx**2)\n",
    "    return nom/den\n",
    "\n",
    "if __name__ == \"__main__\":\n",
    "    _x0 = -2.6\n",
    "    _xf = 2.6\n",
    "    _nint = int(64)\n",
    "    _xx, _dx = utils.get_xx(_nint, _x0, _xf)\n",
    "    _uu_t0 = get_uu_t0(_xx)\n",
    "    fig, ax = plt.subplots()\n",
    "    ax.plot(_xx, _uu_t0)\n",
    "    ax.set_ylabel(\"$u(x,t=t_0)$\")\n",
    "    ax.set_xlabel(\"$x$\");"
   ]
  },
  {
   "cell_type": "markdown",
   "metadata": {},
   "source": [
    "## 1 – The $a = const$ case: the mathematical problem"
   ]
  },
  {
   "cell_type": "markdown",
   "metadata": {},
   "source": [
    "We would like to solve equation (1) numerically for $x  [x_0, x_f]$ with $x_0 = −2.6$, $x_f = 2.6$, periodic boundary conditions and with the initial condition:"
   ]
  },
  {
   "cell_type": "markdown",
   "metadata": {},
   "source": [
    "$$u(x,t=t_0) = \\cos^2 \\left(\\frac{6 \\pi x}{5} \\right) / \\cosh(5x^2) \\tag{2}$$"
   ]
  },
  {
   "cell_type": "markdown",
   "metadata": {},
   "source": [
    "We start by representing that function in the given interval."
   ]
  },
  {
   "cell_type": "markdown",
   "metadata": {},
   "source": [
    "## 2 – Spatial derivative."
   ]
  },
  {
   "cell_type": "markdown",
   "metadata": {},
   "source": [
    "We discretize the initial condition by subdividing the spatial domain into $nint=64$ equal intervals. The function will therefore be sampled with $nump=65$ points, namely $(u_0, u_1, u_2, ... , u_{nump−1})$ at equidistant values of the abscissa, $(x_0, x_1, x_2, ..., x_{nump−1})$. Let us calculate the spatial derivative of the function through non-centered finite differences of the form:"
   ]
  },
  {
   "cell_type": "markdown",
   "metadata": {},
   "source": [
    "$$\\left(\\frac{\\partial u}{\\partial x}\\right)_{x=x_i} \\rightarrow \\frac{u_{i+1}-u_{i}}{\\Delta x}  \\tag{3}$$"
   ]
  },
  {
   "cell_type": "markdown",
   "metadata": {},
   "source": [
    "On the basis of the experience gained with the previous batch of exercises (ex. 1), which order of approximation can we expect now for the calculation of the derivative since we are using non-centered finite differences?"
   ]
  },
  {
   "attachments": {},
   "cell_type": "markdown",
   "metadata": {},
   "source": [
    "### Solution\n",
    "The finite difference on this form is the downwind differencing, which we now know is of 2nd order _if evaluated on half integer grid points_. For non-centered downwind the approximation is of first order. I can test this using `order_conv` from `nm_lib`, which results in a mean order of convergence $\\sim1$ (again, I haven't figured out why the result of `order_conv` is negative, but I interpret the result as positiv.). For completeness I test with the 2nd and 4th order _central_ differencing, which also gives the expected result of $\\sim 2$ and $\\sim 4$."
   ]
  },
  {
   "attachments": {},
   "cell_type": "markdown",
   "metadata": {},
   "source": [
    "<span style=\"color:green\">JMS</span>.\n",
    "\n",
    "<span style=\"color:blue\">GREAT JOB! I put in exercise ex_1a_ext the following: \"If I'm not mistaken the -2 is because it comes from $1/dx^2$. Does it make sense to you?\" </span>.\n",
    "\n",
    "> JB: Of course! Thank you, I didn't catch the comment on ex_1a_ext at first. But yeah, this make sense, thank you!"
   ]
  },
  {
   "cell_type": "code",
   "execution_count": null,
   "metadata": {},
   "outputs": [],
   "source": [
    "def get_order_spatial(min_nint: int, deriv_type: str = \"upw\", u_of_x: callable = get_uu_t0, x0=-2.6, xf=2.6, plot: bool = True) -> np.ndarray:\n",
    "    if deriv_type == \"upw\":\n",
    "        ddx = lambda xx, uu: nm.deriv_upw(xx, uu, method=\"roll\")\n",
    "    elif deriv_type == \"dnw\":\n",
    "        ddx = lambda xx, uu: nm.deriv_dnw(xx, uu, method=\"roll\")\n",
    "    elif deriv_type == \"cent\":\n",
    "        ddx = lambda xx, uu: nm.deriv_cent(xx, uu, method=\"roll\")\n",
    "    elif deriv_type == \"4tho\":\n",
    "        ddx = lambda xx, uu: nm.deriv_4tho(xx, uu, method=\"roll\")\n",
    "    else:\n",
    "        print(\"Found no fitting deriv type\")\n",
    "        return None\n",
    "    nints = [min_nint, 2*min_nint, 4*min_nint]\n",
    "    dudx_list = []\n",
    "    fig, ax = plt.subplots(nrows=2, sharex=True) if plot else (None, None)\n",
    "    for nint in nints:\n",
    "        xx, _ = utils.get_xx(nint, x0, xf)\n",
    "        uu = u_of_x(xx)\n",
    "        dudx_list.append(ddx(xx, uu))\n",
    "        if plot:\n",
    "            ax[0].set_title(deriv_type)\n",
    "            ax[0].plot(xx, dudx_list[-1],label=f\"{nint:d}\")\n",
    "    m = utils.order_conv(*dudx_list)\n",
    "    mmean = np.nanmean(m)\n",
    "    if plot:\n",
    "        xx, _ = utils.get_xx(min_nint, x0, xf)\n",
    "        ax[0].legend()\n",
    "        ax[0].set_ylabel(\"$u'(x)$\")\n",
    "        ax[1].plot(xx, m, label=\"m\")\n",
    "        ax[1].plot(xx, mmean*np.ones_like(xx), label=f\"mean = {mmean:.3g}\")\n",
    "        ax[1].legend()\n",
    "        ax[1].set_xlabel(\"$x$\")\n",
    "        ax[1].set_ylabel(\"order of convergence\")\n",
    "    return m\n",
    "\n",
    "if __name__ == \"__main__\":\n",
    "    get_order_spatial(_nint,\"dnw\")\n",
    "    get_order_spatial(_nint,\"cent\")\n",
    "    get_order_spatial(_nint,\"4tho\")\n"
   ]
  },
  {
   "cell_type": "markdown",
   "metadata": {},
   "source": [
    "## 3 – Time advance."
   ]
  },
  {
   "cell_type": "markdown",
   "metadata": {},
   "source": [
    "We want to calculate an approximation to the value of the function at times later than $t = t_0$, for instance, at time $t_0 + \\Delta t$. To that end, we carry out a discretization of the time axis, calculating approximate values for the time derivative as follows:"
   ]
  },
  {
   "cell_type": "markdown",
   "metadata": {},
   "source": [
    "$$\\left(\\frac{\\partial u}{\\partial t}\\right)_{\\underset{t=t_0}{x=x_i}} \\rightarrow \\frac{u_i(t_0 + \\Delta t)-u_i(t_0)}{\\Delta t}\\tag{4}$$"
   ]
  },
  {
   "cell_type": "markdown",
   "metadata": {},
   "source": [
    "Using now the differential equation (1) and expression (3), we can calculate an approximate value for the function $u$ at $x_i$ and time $t_0 + \\Delta t$ as follows:"
   ]
  },
  {
   "cell_type": "markdown",
   "metadata": {},
   "source": [
    "$$u_i(t_0+\\Delta t) = u_i(t_0) - a \\frac{u_{i+1}(t_0) - u_i(t_0)}{\\Delta x}\\Delta t  \\tag{5}$$"
   ]
  },
  {
   "cell_type": "markdown",
   "metadata": {},
   "source": [
    "Using (5), calculate $u_i$ at time $t_0 + \\Delta t$ at all points of the sample excluding the rightmost point (i.e., excluding $x_{nump−1}$). Use  $\\Delta t = 0.98 \\Delta x/|a|$ and a = −1. Fill in `nm_lib` the functions `step_adv_burgers` and `cfl_adv_burger`. "
   ]
  },
  {
   "cell_type": "code",
   "execution_count": null,
   "metadata": {},
   "outputs": [],
   "source": [
    "if __name__ == \"__main__\":\n",
    "    # This code segment calculates u(t0 + dt):\n",
    "    a = -1\n",
    "    xx, _ = utils.get_xx(_nint, _x0, _xf)\n",
    "    uu_t0_i = get_uu_t0(xx)\n",
    "    dt, uu_step = nm.step_adv_burgers(xx, uu_t0_i, a)\n",
    "    uu_t0_1 = uu_t0_i + uu_step * dt\n",
    "\n",
    "    # This loop calculates the u(t0 + i*dt) for i =(1,30) just to see what happens when\n",
    "    # the solution reaches the border without periodic boundaries.\n",
    "    uu_t0 = uu_t0_i\n",
    "    nt = 30\n",
    "    for i in range(1, nt+1):\n",
    "        dt, uu_step = nm.step_adv_burgers(xx, uu_t0, a)\n",
    "        uu_t1 = uu_t0 + uu_step * dt\n",
    "        uu_t0 = uu_t1\n",
    "\n",
    "    fig, ax = plt.subplots()\n",
    "    ax.plot(xx, uu_t0_i, label=\"$u_i(t_0)$\")\n",
    "    ax.plot(xx, uu_t0_1, label=\"$u_i(t_0 + \\Delta t)$\")\n",
    "    ax.plot(xx, uu_t1, label=f\"$u_i(t_0 + {i:d}\\Delta t)$\")\n",
    "    ax.legend()\n",
    "    ax.set_ylabel(\"$u(x,t)$\")\n",
    "    ax.set_xlabel(\"$x$\")"
   ]
  },
  {
   "attachments": {},
   "cell_type": "markdown",
   "metadata": {},
   "source": [
    "### Comments\n",
    "Here I use the `step_adv_burgers` method to find the step in time to approximate the solution $u(x_i,t+dt)$ using the `deriv_dnw` method without periodic boundaries. The orange curve displays this solution, and we see it shifted along the x-axis to the left as expected with `a=-1`. Here I also continued the evolution of 30 more time steps, to have the solution travel beyond the end of the interval to see what happens. Of course we loose sight of the \"wave\" as it travels beyond `x_0`, but we can also see some residual effect on the right of the interval which I expect is due to the last ill calculated grid point that comes from using the downwind method."
   ]
  },
  {
   "cell_type": "markdown",
   "metadata": {},
   "source": [
    "## 4 – The boundaries."
   ]
  },
  {
   "cell_type": "markdown",
   "metadata": {},
   "source": [
    "To calculate the function at the rightmost point of the interval, we use a periodicity condition on $u$: $u_{nump−1}(t_0 + \\Delta t) = u_0(t_0 + \\Delta t)$. Consider cutting the ill-calculated (or missing) grid points and using `NumPy.pad` to add different boundary conditions. Use `wrap`"
   ]
  },
  {
   "cell_type": "code",
   "execution_count": null,
   "metadata": {},
   "outputs": [],
   "source": [
    "if __name__ == \"__main__\":\n",
    "    a = -1\n",
    "    xx, _ = utils.get_xx(_nint, _x0, _xf)\n",
    "    uu_t0_i = get_uu_t0(xx)\n",
    "    uu_t0 = uu_t0_i\n",
    "    nt = 30\n",
    "    for i in range(nt):\n",
    "        # Passing bnd_limits to step_adv_burgers:\n",
    "        dt, uu_step = nm.step_adv_burgers(xx, uu_t0, a, bnd_limits=[0,1])\n",
    "        uu_t1 = uu_t0 + uu_step * dt\n",
    "        uu_t0 = uu_t1\n",
    "\n",
    "    fig, ax = plt.subplots()\n",
    "    ax.plot(xx, uu_t0_i, label=\"$u_i(t_0)$\")\n",
    "    ax.plot(xx, uu_t1, label=f\"$u_i(t_0 + {nt:d}\\Delta t)$\")\n",
    "    ax.legend()\n",
    "    ax.set_ylabel(\"$u(x,t)$\")\n",
    "    ax.set_xlabel(\"$x$\")"
   ]
  },
  {
   "attachments": {},
   "cell_type": "markdown",
   "metadata": {},
   "source": [
    "### Comments\n",
    "Here I've repeated the same calculation as in the previous task, but included periodic boundaries. I've done this in the `step_adv_burgers` method, by passing in the optional keyword `bnd_limits` which replaces the appropriately ill calculated grid point in the derivative with what it should have been using periodic boundaries using `np.pad` and the `wrap` method."
   ]
  },
  {
   "cell_type": "markdown",
   "metadata": {},
   "source": [
    "## 5 – Subsequent steps in time."
   ]
  },
  {
   "cell_type": "markdown",
   "metadata": {},
   "source": [
    "Having calculated the values $u_i$, $i = 0, 1, 2, ...,nump−1,$ at time $t_0+\\Delta t$, we can carry out another step in time of size $\\Delta t$, following exactly the method just explained. In general, if we have calculated the value of the $u$ function at $x_i$ and time $n\\Delta t$, which we will call $u^n_i$, we can carry out the next step in time, of size $\\Delta t$, through the expression:"
   ]
  },
  {
   "cell_type": "markdown",
   "metadata": {},
   "source": [
    "$$u_i^{n+1} = u_i^n - a \\frac{u_{i+1}^n - u_i^n}{\\Delta x}\\Delta t  \\tag{6}$$"
   ]
  },
  {
   "cell_type": "markdown",
   "metadata": {},
   "source": [
    "Periodic boundary conditions must be applied, as explained in 4 above, to finish the calculation at each timestep. Fill in nm_lib the function `evolv_adv_burgers`. "
   ]
  },
  {
   "cell_type": "markdown",
   "metadata": {},
   "source": [
    "Carry out many steps in time so you can clearly understand the mathematical nature of the solution of the equation. For example, in Python, you can _matplotlib.animation_ to see the evolution. "
   ]
  },
  {
   "cell_type": "code",
   "execution_count": null,
   "metadata": {},
   "outputs": [],
   "source": [
    "if __name__ == \"__main__\":\n",
    "    nt = 200\n",
    "    xx, _ = utils.get_xx(64, -2.6, 2.6)\n",
    "    u0 = get_uu_t0(xx)\n",
    "    t, ut = nm.evolv_adv_burgers(xx, u0, nt, a=-1,\n",
    "                                   ddx = lambda x,y: nm.deriv_dnw(x,y, method=\"roll\"),\n",
    "                                   bnd_limits=[0,1])\n",
    "    ut = ut.T\n",
    "    fig, axes = plt.subplots(nrows=1, ncols=1, figsize=(10, 5))\n",
    "    def init(): \n",
    "        axes.plot(xx,ut[:,0])\n",
    "\n",
    "    def animate(i):\n",
    "        axes.clear()\n",
    "        axes.plot(xx,ut[:,i])\n",
    "        axes.set_title('t=%.2f'%t[i])\n",
    "        axes.set_ylim(-0.01,1.01)\n",
    "        \n",
    "    anim = FuncAnimation(fig, animate, interval=50, frames=nt, init_func=init)\n",
    "    html = HTML(anim.to_jshtml())\n",
    "    display(html)\n",
    "    plt.close()"
   ]
  },
  {
   "attachments": {},
   "cell_type": "markdown",
   "metadata": {},
   "source": [
    "### Comments\n",
    "Here I've developed the `evolve_adv_burgers` method in `nm_lib`, evolving the burgers equation `nt=200` steps forward in time. The evolve method takes in the same type of parameter `bnd_limits` and `bnd_type` which is passed through to the `step_adv_burgers` method. As far as I've understood (and tested) the periodicity of the problem is dealt with solely in the part of the evolution which is calculating the time step (the output of `step_adv_burgers`), which translates the periodic boundaries into the solution at the next time step, so with this approach I don't have to pad the actual solution `u_j^n+1`. I hope this is still the case for more complex problems, e.i. for non-uniform advection speeds. I guess I'll find out in the next exercises, but also appreciate any pointers/feedback on this way of dealing with the boundaries.\n",
    "\n",
    "As we can see the solution evolves relatively nicely in time, but with some smearing of the local maxima and minima. Over time, the solution looses some amplitude, and the \"small bumbs\" on each side is more and more smeared out. This is more or less expected, as with this low resolution in space we have some very pointy peaks and troughs which will be smeared out by the neighboring points due to round off (and truncation?) errors."
   ]
  },
  {
   "attachments": {},
   "cell_type": "markdown",
   "metadata": {},
   "source": [
    "<span style=\"color:green\">JMS</span>.\n",
    "\n",
    "<span style=\"color:blue\">GREAT JOB!</span>.\n",
    "\n",
    "<span style=\"color:blue\">But the \"smearing\" do not come from round off error or truncation in the operations. This come from the fact that we are discretizacing the domain. Which means that we are solving the derivative using a Talyor series and as a result the \"left\" over from that discretization behaives as a diffusion. </span>.\n",
    "\n",
    "> JB: Right! Thank you for clearing that up for me."
   ]
  },
  {
   "cell_type": "markdown",
   "metadata": {},
   "source": [
    "## 6 – Comparison with the exact solution."
   ]
  },
  {
   "cell_type": "markdown",
   "metadata": {},
   "source": [
    "Through one of the theory sessions, we know the exact solution of eq. (1) for the initial condition (2). Draw the exact solution on top of the numerical one using a dashed line. Then, explain the mathematical behavior of the solution. __Important note__: consider that the initial condition is eq (2) in $[x_0, x_f]$, _with periodic conditions at the boundaries_. In other words, the initial condition consists of an infinite repetition of the function (2) you represented between $[x_0, x_f]$ next to each other. Use this fact when comparing your numerical solution with the analytical one. __Hint__: if you consider points starting within the interval $(x_0, x_f)$ and moving with speed $a$, they will go outside the domain after some time. Use mod operator (\\% in Python) to bring them back into the domain respecting the periodicity of the problem or _numpy.pad_ to pad ghost points, i.e., points out of the numerical domain, which will allow defining the boundaries, at both ends of the numerical domain. NumPy.pad allows various types of boundaries."
   ]
  },
  {
   "cell_type": "code",
   "execution_count": null,
   "metadata": {},
   "outputs": [],
   "source": [
    "def get_u_exact(xx: np.ndarray,t: float,a: float) -> np.ndarray:\n",
    "    \"\"\"\n",
    "    Calculates the exact solution of the advective burgers equation with constant\n",
    "    advection speed at time t, with periodic boundaries in x.\n",
    "\n",
    "    Arguments:\n",
    "        xx {np.ndarray} -- discretized interval of x-values\n",
    "        t {float} -- time coordinate to evaluate the solution for\n",
    "        a {float} -- advection speed (could also be an array)\n",
    "\n",
    "    Returns:\n",
    "        np.ndarray -- the exact solution at time t \n",
    "    \"\"\"\n",
    "    xmin = xx[0]    # pick out min x value, could be positiv or negative. Used to shift the x-array to start at x_0 = 0\n",
    "    xmax = xx[-1]   # pick out max x value to calculate the length of the interval\n",
    "    x_start_0 = xx - xmin   # new x-array with the interval shifted to so the first element is zero\n",
    "    # y = x - at, but here I use the new shifted x-array so I can use the modulo operator for periodic boundaries\n",
    "    y = (x_start_0-a*t)%(xmax-xmin) + xmin  # after calculating, shift the y-array back to match with the original interval\n",
    "    return get_uu_t0(y)\n",
    "\n",
    "if __name__ == \"__main__\":\n",
    "    nint = 64\n",
    "    nt = 60\n",
    "    a = -1\n",
    "    x0 = -2.6\n",
    "    xf = 2.6\n",
    "    xx, _ = utils.get_xx(nint, x0, xf)\n",
    "    uu_t0 = get_uu_t0(xx)\n",
    "    tt, uunt = nm.evolv_adv_burgers(xx, uu_t0, nt, a, ddx = lambda x,u:nm.deriv_dnw(x,u,method=\"roll\"), bnd_limits=[0,1])\n",
    "\n",
    "    fig, ax = plt.subplots(nrows=1, ncols=1, figsize=(10, 5))\n",
    "\n",
    "    def init(): \n",
    "        ax.plot(xx,uunt.T[:,0])\n",
    "\n",
    "    def animate(i):\n",
    "        ax.clear()\n",
    "        ax.plot(xx,uunt.T[:,i], label=\"uunt\")\n",
    "        ax.plot(xx, get_u_exact(xx, tt[i],a),ls=\"--\", label=\"exact\")\n",
    "        ax.set_title('t=%.2f'%tt[i])\n",
    "        ax.legend(loc=1)\n",
    "            \n",
    "    anim = FuncAnimation(fig, animate, interval=100, frames=nt, init_func=init)\n",
    "    html = HTML(anim.to_jshtml())\n",
    "    display(html)\n",
    "    plt.close()\n",
    "\n"
   ]
  },
  {
   "attachments": {},
   "cell_type": "markdown",
   "metadata": {},
   "source": [
    "### Comments\n",
    "See docstring and comments on the periodic boundaries for the analytical solution. Here it is very easy to see the smearing effect I discussed in the previous task when we compare the solution to the exact one. Here I've actually widened the upper boundary for the x-interval to demonstrate the solution on an antisymmetric grid, which means I've even poorer resolution in space as we can see from the discretization of the curves.\n",
    "\n",
    "I've actually discussed how the exact solution evolves in time in `ex_2a_analytical`, as I mistakenly did the first task. I refer to that notebook for a slightly more in depth analysis, but the main take away is that the shape of the solution stays constant in time, but moving in the direction of the sign of `a` with a constant speed (as long as `a` is a constant). The smearing is evident near the peaks and troughs, and so a good first test of the solution would be the maximum absolute value between the exact and the numerical solution."
   ]
  },
  {
   "cell_type": "markdown",
   "metadata": {},
   "source": [
    "Add a CI/CD pipeline to run this test and validate each push commit. This lets us know if a specific submitted change damages the existing code. For this, fill in ./github/workflows/test.yml"
   ]
  },
  {
   "attachments": {},
   "cell_type": "markdown",
   "metadata": {},
   "source": [
    "<span style=\"color:green\">JMS</span>.\n",
    "\n",
    "<span style=\"color:red\">Your workflow is missing a library (matplotlib). You can either include as a required file in setup.cgs, or import in the workflow or delete the dependencies of the library</span>.\n",
    "\n",
    "> JB: This should now be in order!"
   ]
  },
  {
   "cell_type": "markdown",
   "metadata": {},
   "source": [
    "## 7 – Resolution increase in space and time. "
   ]
  },
  {
   "cell_type": "markdown",
   "metadata": {},
   "source": [
    "Let us repeat the calculation of the previous paragraphs, increasing the number of space intervals by factors of 2. Check if the numerical solution gets increasingly close to the analytical solution. Important: the comparison must be made _for the same values of $x$ and $t$ for all resolutions you check_. Choose a fixed time when the traveling function has already gone through the whole domain a few times. "
   ]
  },
  {
   "cell_type": "code",
   "execution_count": null,
   "metadata": {},
   "outputs": [],
   "source": [
    "if __name__ == \"__main__\":\n",
    "    check_time = 52\n",
    "    nr_increases = 5    # number of times increasing space resolution\n",
    "    b2s = 6     # start number of intervals in base 2\n",
    "    nints = np.logspace(b2s,b2s+nr_increases,nr_increases+1,base=2, dtype=int)\n",
    "    x0 = -2.6\n",
    "    xf = 2.6\n",
    "    a = -1\n",
    "    maxabserr = np.zeros(len(nints))\n",
    "    for i,nint in enumerate(nints):\n",
    "        xx, dx = utils.get_xx(nint, x0, xf)\n",
    "        nt = int((check_time+10)/dx[1])  # Set number of times steps to evolve enough to reach the desired check_time\n",
    "        uu_t0 = get_uu_t0(xx)\n",
    "        tt, uunt = nm.evolv_adv_burgers(xx, uu_t0,nt=nt,a=a,ddx = lambda x,u: nm.deriv_dnw(x,u,method=\"roll\"), bnd_limits=[0,1])\n",
    "        id_time_check = np.argmin(np.abs(tt-check_time))    # Get index of time closes to check_time\n",
    "        u_exact_check = get_u_exact(xx,tt[id_time_check],a)\n",
    "        maxabserr[i] = np.max(np.abs(uunt[id_time_check]-u_exact_check)) # Max error evaluated at desired time"
   ]
  },
  {
   "cell_type": "code",
   "execution_count": null,
   "metadata": {},
   "outputs": [],
   "source": [
    "if __name__ == \"__main__\":\n",
    "    fig, (ax,logax) = plt.subplots(figsize=(14,7),ncols=2, sharex=True)\n",
    "    nints_inv_sqrt = (nints)**(-0.5)\n",
    "    nints_inv = 1/nints\n",
    "    ax.semilogx(nints, nints_inv_sqrt*np.max(maxabserr)/np.max(nints_inv_sqrt), label=r\"$\\propto nint^{-0.5}$\")\n",
    "    ax.semilogx(nints, maxabserr,\"-x\", label=\"error\")\n",
    "    logax.loglog(nints, maxabserr,\"-x\", label=\"error\")\n",
    "    logax.loglog(nints, nints_inv_sqrt*np.max(maxabserr)/np.max(nints_inv_sqrt), label=r\"$\\propto nint^{-0.5}$\")\n",
    "    logax.loglog(nints, nints_inv*np.min(maxabserr)/np.min(nints_inv), label=r\"$\\propto nint^{-1}$\")\n",
    "    for x in [ax,logax]:\n",
    "        x.set_xticks(nints, [f\"{val:d}\" for val in nints])\n",
    "        x.set_ylabel(\"Max absolute error\")\n",
    "        x.set_xlabel(\"nint\")\n",
    "        x.legend()\n",
    "        x.set_title(f\"t={tt[id_time_check]:.2f}\");\n",
    "    logax.yaxis.tick_right()\n",
    "    logax.yaxis.set_label_position(\"right\")"
   ]
  },
  {
   "attachments": {},
   "cell_type": "markdown",
   "metadata": {},
   "source": [
    "### Comments\n",
    "Here I loop over a few different resolutions in space, and evaluate the maximum absolute error between the exact and the numerical solution at a desired time. The solution moves with the constant speed `a=-1`, and with an interval of length $5.2$ that should mean the function moves once through the domain in $\\Delta t = 5.2$. I chose `time_check=52`, where each solution has passed through the interval 10 times. I think this is an effective test, and we can see the solution approaching the exact solution more and more for increased number of intervals in space. At `nint=1024` the max error is below $10\\%$. I will try to implement this test as a CI/CD pipeline, in `test_ex_2b.py` from the `nm_lib` library.\n",
    "\n",
    "As a side note I thought the slope resembled the invers square root function, so I just included that curve for comparison. This is not a proper test of the dependency of the space resolution, but I thought it was fun so I kept it for a reference."
   ]
  },
  {
   "attachments": {},
   "cell_type": "markdown",
   "metadata": {},
   "source": [
    "<span style=\"color:green\">JMS</span>.\n",
    "\n",
    "<span style=\"color:blue\">Great job.</span>.\n",
    "\n",
    "<span style=\"color:Yellow\">Could you plot in loglog scale. This will allow us to see the slope better. One important thing here is that it is not order 2 as the spatial derivative. And this has to do with the time-step scheme that it is not second order. </span>.\n",
    "\n",
    "> JB: I've included a loglog scale version. As we can see it doesn't follow a straight curve, and of course most importantly not an order 2 curve. It's closer to \"order one half\", and for higher number of grid points it approaches a first order method. With a higher number of grid points the error caused by the discretization is reduced."
   ]
  }
 ],
 "metadata": {
  "kernelspec": {
   "display_name": "ast9110",
   "language": "python",
   "name": "python3"
  },
  "language_info": {
   "codemirror_mode": {
    "name": "ipython",
    "version": 3
   },
   "file_extension": ".py",
   "mimetype": "text/x-python",
   "name": "python",
   "nbconvert_exporter": "python",
   "pygments_lexer": "ipython3",
   "version": "3.10.9"
  },
  "vscode": {
   "interpreter": {
    "hash": "6c9a166da8e4ec0420a7bdc4156e952a1692b305bda74516019c069456b6fa09"
   }
  }
 },
 "nbformat": 4,
 "nbformat_minor": 4
}
