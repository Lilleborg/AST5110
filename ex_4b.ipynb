{
 "cells": [
  {
   "cell_type": "markdown",
   "metadata": {},
   "source": [
    "# Simulation with non-uniform characteristic velocity"
   ]
  },
  {
   "cell_type": "markdown",
   "metadata": {},
   "source": [
    "## 1 – Non-linear velocity."
   ]
  },
  {
   "cell_type": "markdown",
   "metadata": {},
   "source": [
    "Repeat the simulation of exercise 2a, but now using a non-linear velocity $a$ of the form:"
   ]
  },
  {
   "cell_type": "markdown",
   "metadata": {},
   "source": [
    "$$a(x) = -\\frac{1}{2}\\left\\{\\frac{1}{2} + 5 \\cos^2 \\left[\\frac{4\\pi}{9}s(x)\\right]\\exp[-4s^2(x)]\\right\\} \\tag{1}$$"
   ]
  },
  {
   "cell_type": "markdown",
   "metadata": {},
   "source": [
    "with $s(x) = -1 + 2\\frac{x-x_0}{x_f-x_0}$"
   ]
  },
  {
   "cell_type": "markdown",
   "metadata": {},
   "source": [
    "For the experiments, use a large number of intervals, e.g., 2048 or 4096. Since $a(x)$ is no longer uniform, the expression for $\\Delta t$ used in Exercise 2a gives a different value for each point in the grid. We shall take as $\\Delta t$ the minimum of all those values. For this exercise, use `nm.deriv_cent` and `cfl_cut=0.5`. Describe the most important deviations in the simulation behavior compared to when $a$ was uniform."
   ]
  },
  {
   "cell_type": "code",
   "execution_count": null,
   "metadata": {},
   "outputs": [],
   "source": [
    "import numpy as np\n",
    "from scipy.integrate import simpson, solve_ivp\n",
    "import matplotlib.pyplot as plt\n",
    "from IPython.display import HTML\n",
    "from importlib import reload\n",
    "\n",
    "import import_ipynb\n",
    "from nm_lib import nm_lib as nm, utils as utils\n",
    "from ex_2b import get_uu_t0\n",
    "\n",
    "plt.style.use(\"fast\")\n",
    "\n",
    "\n",
    "def get_non_a(xx: np.ndarray, x0: float = -2.6, xf: float = 2.6) -> np.ndarray:\n",
    "    s = get_s(xx, x0, xf)\n",
    "    costerm = np.cos(4 * np.pi / 9 * s) ** 2\n",
    "    expterm = np.exp(-4 * s**2)\n",
    "    return -1 / 2 * (1 / 2 + 5 * costerm * expterm)\n",
    "\n",
    "\n",
    "def get_s(xx, x0, xf):\n",
    "    x0 = xx[0] if x0 is None else x0\n",
    "    xf = xx[-1] if xf is None else xf\n",
    "    s = -1 + 2 * (xx - x0) / (xf - x0)\n",
    "    return s\n"
   ]
  },
  {
   "cell_type": "code",
   "execution_count": null,
   "metadata": {},
   "outputs": [],
   "source": [
    "if __name__ == \"__main__\":\n",
    "    nint = 2048\n",
    "    x0 = -2.6\n",
    "    xf = 2.6\n",
    "    xx, dx = utils.get_xx(nint, x0, xf)\n",
    "    uut0 = get_uu_t0(xx)\n",
    "    a_non = get_non_a(xx)\n",
    "    a_uni = uut0\n",
    "    plt.plot(xx, a_non, label=\"non\")\n",
    "    plt.plot(xx, a_uni, label=\"uni\")\n",
    "    plt.legend()\n"
   ]
  },
  {
   "cell_type": "code",
   "execution_count": null,
   "metadata": {},
   "outputs": [],
   "source": [
    "if __name__ == \"__main__\":\n",
    "    tt_non, uunt_non = nm.evolv_Lax_adv_burgers(\n",
    "        xx, uut0, a_non, end_time=10, cfl_cut=0.5, ddx=lambda x, u: nm.deriv_cent(x, u), bnd_limits=[1, 1]\n",
    "    )\n",
    "    tt_uni, uunt_uni = nm.evolv_Lax_adv_burgers(\n",
    "        xx, uut0, a=-1, end_time=10, cfl_cut=0.5, ddx=lambda x, u: nm.deriv_cent(x, u), bnd_limits=[1, 1]\n",
    "    )\n"
   ]
  },
  {
   "cell_type": "code",
   "execution_count": null,
   "metadata": {},
   "outputs": [],
   "source": [
    "if __name__ == \"__main__\":\n",
    "    sol_dict = {\"Non\": (tt_non, uunt_non), \"Uni\": (tt_uni, uunt_uni)}\n",
    "    display(HTML(utils.animate_us(sol_dict, tt_non[::100], xx).to_jshtml()))\n",
    "    plt.close()\n",
    "    fig, ax = plt.subplots()\n",
    "    for name, (tt, uunt) in sol_dict.items():\n",
    "        area = simpson(uunt[:, 1:], xx[1:])\n",
    "        ax.plot(tt, area, label=name)\n",
    "    ax.set_ylabel(r\"$\\int u(x,t) dx$\")\n",
    "    ax.set_xlabel(\"t\")\n",
    "    ax.legend()\n"
   ]
  },
  {
   "cell_type": "markdown",
   "metadata": {},
   "source": [
    "## 2 – Interpretation of the result of the experiment."
   ]
  },
  {
   "cell_type": "markdown",
   "metadata": {},
   "source": [
    "To understand the result, we must recall the fundamental property of the linear advection equation, namely: the value of the solution $u(x, t)$ stays constant if we move along the $x$ axis with velocity $a$, i.e., following the curves $x_p(t)$ defined through:"
   ]
  },
  {
   "cell_type": "markdown",
   "metadata": {},
   "source": [
    "$$\\frac{d x_p}{dt} = a[x_p(t),t]  \\tag{2}$$"
   ]
  },
  {
   "cell_type": "markdown",
   "metadata": {},
   "source": [
    "1. If you know how to integrate ordinary differential equations (or, more simply, in this case, how to calculate numerical quadratures), find, using Python, the function $x_p(t)$ that solves equation (2) with initial condition $x_p(t = 0) = x_0$. Then do the same for $x_p(t = 0) = x_f$ . Then, once you have the program working for you, it is easy to calculate the $x_p(t)$ function starting from points in the interior of the interval. With those, draw the solutions for a number of initial representative values."
   ]
  },
  {
   "cell_type": "code",
   "execution_count": null,
   "metadata": {},
   "outputs": [],
   "source": [
    "if __name__ == \"__main__\":\n",
    "    rhs = lambda t, x: get_non_a(utils.get_periodic_value(x0, xf, x))[:, ...]\n",
    "    tf = 20\n",
    "    tt = np.linspace(0, tf, 100)\n",
    "    x_init = np.linspace(x0, xf, 7)\n",
    "    markers = [\".\", \"1\", \"2\", \"3\", \"4\", \"+\", \"x\", \"*\"]\n",
    "    sol = solve_ivp(rhs, [0, tf], x_init, dense_output=True, vectorized=True)\n",
    "\n",
    "    fig, (pax, ax) = plt.subplots(nrows=2, sharex=True)\n",
    "    for i, xp in enumerate(sol.sol(tt)):\n",
    "        pax.plot(\n",
    "            tt,\n",
    "            utils.get_periodic_value(x0, xf, xp),\n",
    "            marker=markers[i % len(markers)],\n",
    "            linestyle=\"None\",\n",
    "            label=f\"$x_p(0)={x_init[i]:.2f}$\",\n",
    "        )\n",
    "        ax.plot(tt, xp, marker=markers[i % len(markers)], linestyle=\"None\")\n",
    "    pax.legend(bbox_to_anchor=(0.0, 1.02, 1.0, 0.102), loc=\"lower left\", mode=\"expand\", ncol=3)\n",
    "    pax.axhline(y=x0, ls=\":\", color=\"k\")\n",
    "    pax.axhline(y=xf, ls=\":\", color=\"k\")\n",
    "    pax.set_ylabel(\"$x_p(t)$, periodic\")\n",
    "    ax.set_ylabel(\"$x_p(t)$\")\n",
    "    ax.set_xlabel(\"$t$\")\n"
   ]
  },
  {
   "cell_type": "markdown",
   "metadata": {},
   "source": [
    "2. Based on the solutions you have just found for $x_p$, interpret the time evolution you see in the PDE solution of paragraph  1."
   ]
  }
 ],
 "metadata": {
  "kernelspec": {
   "display_name": "ast9110",
   "language": "python",
   "name": "python3"
  },
  "language_info": {
   "codemirror_mode": {
    "name": "ipython",
    "version": 3
   },
   "file_extension": ".py",
   "mimetype": "text/x-python",
   "name": "python",
   "nbconvert_exporter": "python",
   "pygments_lexer": "ipython3",
   "version": "3.10.9"
  },
  "vscode": {
   "interpreter": {
    "hash": "6c9a166da8e4ec0420a7bdc4156e952a1692b305bda74516019c069456b6fa09"
   }
  }
 },
 "nbformat": 4,
 "nbformat_minor": 4
}
