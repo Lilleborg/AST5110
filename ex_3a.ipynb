{
 "cells": [
  {
   "cell_type": "markdown",
   "metadata": {},
   "source": [
    "# The instability of numerical codes: symptoms"
   ]
  },
  {
   "cell_type": "markdown",
   "metadata": {},
   "source": [
    "The instability of numerical schemes and codes is one of the critical problems that a researcher using numerical experimentation may encounter. In this exercise, we are going to see how violent numerical instabilities can be."
   ]
  },
  {
   "cell_type": "code",
   "execution_count": null,
   "metadata": {},
   "outputs": [],
   "source": [
    "import numpy as np\n",
    "import matplotlib.pyplot as plt\n",
    "from matplotlib.animation import FuncAnimation\n",
    "from IPython.display import HTML\n",
    "from importlib import reload\n",
    "import import_ipynb\n",
    "\n",
    "from ex_2b import get_uu_t0, get_u_exact\n",
    "from nm_lib import nm_lib as nm, utils as utils\n",
    "# Define some simple global matplotlib settings\n",
    "plt.rcParams.update(\n",
    "    {\"font.size\" : \"15\",\n",
    "     \"font.family\"          : \"STIXGeneral\",\n",
    "     \"mathtext.fontset\"     : \"stix\",\n",
    "     \"figure.autolayout\"    : \"True\",\n",
    "     \"figure.figsize\"       : (7,7),\n",
    "     \"lines.markersize\"     : 10,\n",
    "     }\n",
    ")\n",
    "\n",
    "def animate_u(uunt: np.ndarray, xx: np.ndarray, tt: np.ndarray, a:float = None, exact: callable = None, initial = None) -> None:\n",
    "    \"\"\"\n",
    "    Animates a function u(x,t) in the interval xx over time tt.\n",
    "\n",
    "    Arguments:\n",
    "        uunt {np.ndarray} -- [len(tt),len(xx)] array with the solution of u(x,t)\n",
    "        xx {np.ndarray} -- spacial coordinate\n",
    "        tt {np.ndarray} -- time array\n",
    "        a {float or None} -- advection speed, if not constant pass in None\n",
    "\n",
    "    Keyword Arguments:\n",
    "        exact {callable} -- if given, a callable returning the 1D array with exact solution, signature (x,t) (default: {None})\n",
    "        initial {np.ndarray or None} -- if given, the initial state of uunt (default: {None})\n",
    "    \"\"\"\n",
    "    fig, ax = plt.subplots(nrows=1, ncols=1, figsize=(10, 5))\n",
    "    title_str_app = f\" a={a:.2f}\" if a is not None else \"\"\n",
    "    print(f\"Animation with nint={len(xx)-1:d}\"+title_str_app+f\", nframes={len(tt):d}:\")\n",
    "\n",
    "    def init(): \n",
    "        ax.plot(xx,uunt[0,:])\n",
    "\n",
    "    def animate(i):\n",
    "        ax.clear()\n",
    "        ax.plot(xx,uunt[i,:], label=\"uunt\")\n",
    "        if initial is None:\n",
    "            ax.plot(xx,uunt[0,:], ls=\":\", label=\"init\")\n",
    "        else:\n",
    "            ax.plot(xx, initial, ls=\":\", label=\"init\")\n",
    "        if exact is not None:\n",
    "            ax.plot(xx, exact(xx, tt[i],a),ls=\"--\", label=\"exact\")\n",
    "        ax.set_title(f\"t={tt[i]:.2f}, nint={len(xx)-1:d}\"+title_str_app)\n",
    "        ax.legend(loc=1)\n",
    "\n",
    "    anim = FuncAnimation(fig, animate, interval=200, frames=len(tt), init_func=init)\n",
    "    html = HTML(anim.to_jshtml())\n",
    "    display(html)\n",
    "    plt.close()\n",
    "\n",
    "def analyse_instability(nint: int, nt: int = 60, x0: float = -2.6, xf: float = 2.6, a=1, crit_value: float = 1.5, **kwargs):\n",
    "    \"\"\"\n",
    "    A very(!) messy function for the analysis performed in this exercise. This is implemented and adjusted on the\n",
    "    go dependent on what is needed in the specific case. Functions like this is not safe... Instead of a normal\n",
    "    docstring I've tried to write out the most important parts:\n",
    "\n",
    "    It basically initiates the required xx-array, then handles the input keyword arguments which is specifying\n",
    "    the type of derivative, bnd_limits and the various functions to be used for evolving in time.\n",
    "\n",
    "    After finding the solution uunt, it checks for instability. Instability at specific timestep is defined \n",
    "    if the maximum absolute value of uunt at that timestep is larger than input `crit_value`. If an instability\n",
    "    of this kind is found, it prints the time step id and the actuall time. The function then animates the solution\n",
    "    at every 4th timestep from the initial state until the end (or until the instability point) if desired.\n",
    "    Finally the time of instability, index of instability, the time array, solution array and xx-array is returned.\n",
    "    \"\"\"\n",
    "    xx, dx = utils.get_xx(nint, x0, xf)\n",
    "\n",
    "    # Handle additional keyword arguments\n",
    "    ddx = kwargs[\"ddx\"] if \"ddx\" in kwargs else nm.deriv_dnw\n",
    "    bnd_limits = kwargs[\"bnd_limits\"] if \"bnd_limits\" in kwargs else [0,1]\n",
    "    cfl_cut = kwargs[\"cfl_cut\"] if \"cfl_cut\" in kwargs else 0.98\n",
    "    ani = kwargs[\"animate\"] if \"animate\" in kwargs else True\n",
    "    evolv_func = kwargs[\"evolv_func\"] if \"evolv_func\" in kwargs else nm.evolv_adv_burgers\n",
    "    init_func = kwargs[\"init_func\"] if \"init_func\" in kwargs else get_uu_t0\n",
    "    u_exact = kwargs[\"u_exact\"] if \"u_exact\" in kwargs else get_u_exact\n",
    "\n",
    "    uut0 = init_func(xx)\n",
    "    if a is None:\n",
    "        tt, uunt = evolv_func(xx, uut0, nt, ddx=ddx, bnd_limits=bnd_limits, cfl_cut=cfl_cut)\n",
    "    else:\n",
    "        tt, uunt = evolv_func(xx, uut0, a, nt, ddx=ddx, bnd_limits=bnd_limits, cfl_cut=cfl_cut)\n",
    "    # check for instability:\n",
    "    crit_value = crit_value    # I say instability occurs if any values in u(x,t) is larger than this value\n",
    "    id_crit = np.argmax(np.max(np.abs(uunt),axis=1)>crit_value) # find first idx of time where the max abs value in uunt is larger than crit_value\n",
    "    print(f\"Using {ddx.__name__}, with {nint:d} intervals, cfl_cut={cfl_cut:.2f}, nt={nt:d}\")\n",
    "    if id_crit == 0:\n",
    "        print(f\"Instability not found for t<{tt[-1]:.2f}\")\n",
    "        crit_time = None\n",
    "        anim_idt = None\n",
    "    else:\n",
    "        crit_time = tt[id_crit]\n",
    "        anim_idt = id_crit + 3\n",
    "        print(f\"Instability after {id_crit:d} timesteps, t={crit_time:.2f}\")\n",
    "    if ani is True:\n",
    "        animate_u(uunt[:anim_idt:4,:], xx, tt[:anim_idt:4], a, exact=u_exact)\n",
    "    elif ani == \"last\":\n",
    "        animate_u(uunt[anim_idt-1:anim_idt,:], xx, tt[anim_idt-1:anim_idt], a, exact=u_exact, initial=uunt[0,:])\n",
    "    return crit_time, id_crit, tt, uunt, xx\n"
   ]
  },
  {
   "cell_type": "markdown",
   "metadata": {},
   "source": [
    "## 1 – Numerical instability: violent development"
   ]
  },
  {
   "cell_type": "markdown",
   "metadata": {},
   "source": [
    "1. Repeat the numerical simulation carried out __in exercise [ex_2a](https://github.com/AST-Course/AST5110/blob/main/ex_2a.ipynb)__, but now take $a = 1$ (it was $a = −1$); (use a moderate number of intervals, like, e.g., 128). Check out what happens. After how many timesteps does instability become evident?\n",
    "\n",
    "Repeat the experiment with 1024 points (and afterward with any other power of 2 you may want to use). Is the experiment stable now? After how many timesteps does the instability become evident now?\n",
    "\n",
    "2. Still for $a = 1$, use for the spatial differentiation backward finite differencing, i.e.:"
   ]
  },
  {
   "cell_type": "markdown",
   "metadata": {},
   "source": [
    "$$\\left(\\frac{\\partial u}{\\partial x}\\right)_{x=x_i} \\rightarrow \\frac{u_i-u_{i-1}}{\\Delta x}  \\tag{1}$$"
   ]
  },
  {
   "cell_type": "markdown",
   "metadata": {},
   "source": [
    "Fill in the `nm_lib` function `deriv_upw`, and use the `lambda` function `ddx` and select the proper limits for `bnd_limits`. "
   ]
  },
  {
   "cell_type": "markdown",
   "metadata": {},
   "source": [
    "__taking care of also changing the implementation of the boundary condition.__ Does the unstable character of the code change?"
   ]
  },
  {
   "attachments": {},
   "cell_type": "markdown",
   "metadata": {},
   "source": [
    "<span style=\"color:Orange\">\n",
    "\n",
    "## Comments\n",
    "\n",
    "In this exercise I've gradually developed the function `analyse_instability`. The result is a quite messy function, but hopefully it's purpose is understandable. It more or less computes the solution I want given a set of input for the function and it's derivative, the numerical scheme and boundary conditions. After evolving the solutions, instead of manually inspecting the animation for instability, I perform a check of the maximum absolute value and compare it to a specified critical value also given as input. The appropriate input for this critical value is of course dependent on the problem. For the first part of the exercise I've chosen `crit_value=1.5` which corresponds to the function-value being increased by a factor of $1.5$ of it's exact value."
   ]
  },
  {
   "attachments": {},
   "cell_type": "markdown",
   "metadata": {},
   "source": [
    "### Testing instability with downwind:"
   ]
  },
  {
   "cell_type": "code",
   "execution_count": null,
   "metadata": {},
   "outputs": [],
   "source": [
    "if __name__ == \"__main__\":\n",
    "    analyse_instability(128)\n",
    "    analyse_instability(1024)\n",
    "    analyse_instability(1024*2, animate=False)\n",
    "    analyse_instability(1024*4, animate=False)\n",
    "    analyse_instability(1024*8, animate=False)"
   ]
  },
  {
   "attachments": {},
   "cell_type": "markdown",
   "metadata": {},
   "source": [
    "<span style=\"color:Orange\">\n",
    "\n",
    "## Comments\n",
    "\n",
    "Here we see that the solution becomes unstable after very few time steps. In the case of `nint=128` it only takes 8 time steps before the peak of the propagating function to reach the critical value of 1.5. As we know from the analytical solution, the amplitude of the curve should not change - so the increase indicates instability and that we are on the onset of the error being magnified exponentially.\n",
    "\n",
    "Interestingly, for `nint=1028` and above, we find the exact same behavior for higher resolution. The function start to look \"fuzzy\" before exploding at time step 34. So this is not a type of instability we can fix by just increasing the resolution, but looks like an inherit property of applying the wrong scheme.</span>"
   ]
  },
  {
   "attachments": {},
   "cell_type": "markdown",
   "metadata": {},
   "source": [
    "### Testing instability with upwind:"
   ]
  },
  {
   "cell_type": "code",
   "execution_count": null,
   "metadata": {},
   "outputs": [],
   "source": [
    "if __name__ == \"__main__\":\n",
    "    analyse_instability(64, nt=120, ddx=nm.deriv_upw, bnd_limits=[1, 0], animate=False)\n",
    "    analyse_instability(64 * 2, nt=120 * 2, ddx=nm.deriv_upw, bnd_limits=[1, 0])\n",
    "    analyse_instability(64 * 4, nt=120 * 4, ddx=nm.deriv_upw, bnd_limits=[1, 0], animate=False)\n",
    "    analyse_instability(64 * 8, nt=120 * 8, ddx=nm.deriv_upw, bnd_limits=[1, 0], animate=False)\n",
    "    analyse_instability(64 * 16, nt=120 * 16, ddx=nm.deriv_upw, bnd_limits=[1, 0], animate=False)\n"
   ]
  },
  {
   "attachments": {},
   "cell_type": "markdown",
   "metadata": {},
   "source": [
    "<span style=\"color:Orange\">\n",
    "\n",
    "## Comments\n",
    "\n",
    "Using the upwind method I find no instabilities regardless of resolution in space."
   ]
  },
  {
   "cell_type": "markdown",
   "metadata": {},
   "source": [
    "## 2 – Centered differences"
   ]
  },
  {
   "cell_type": "markdown",
   "metadata": {},
   "source": [
    "Use now for the spatial derivation _centered finite differences_, i.e.:"
   ]
  },
  {
   "cell_type": "markdown",
   "metadata": {},
   "source": [
    "$$\\left(\\frac{\\partial u}{\\partial x}\\right)_{x=x_i} \\rightarrow \\frac{u_{i+1}-u_{i-1}}{2\\Delta x}   \\tag{2}$$"
   ]
  },
  {
   "cell_type": "markdown",
   "metadata": {},
   "source": [
    "(and see the note on boundary conditions below). Fill in `nm_lib` the function `deriv_cent`, and like in the previous case, use the `lambda` function `ddx` and select the proper limits for `bnd_limits`. Use `cfl_cut=0.3`. Is any instability apparent in this case? Does the situation change when you change the sign of the constant $a$?\n",
    "\n",
    "Note: In this case, the periodicity boundary condition can be implemented as follows: define $xx$ so that the endpoint $x = x_0$ of the domain coincides with $xx[1]$ (i.e., the second component of the array) and the endpoint $x = x_f$ coincides with the last element in the array [i.e., $xx[nump-1]$]. For the boundary condition, you can do the following: assume you are calling $uun$ the array at time $t + \\Delta t$. Then the boundary condition is imposed by specifying $uun[0] = uun[nump-2]$ and $uun[nump-1] = uun[1]$."
   ]
  },
  {
   "cell_type": "code",
   "execution_count": null,
   "metadata": {},
   "outputs": [],
   "source": [
    "if __name__ == \"__main__\":\n",
    "    nt = 2000\n",
    "    analyse_instability(64, nt=nt,a=-1,ddx= nm.deriv_cent, bnd_limits=[1,1], cfl_cut=0.3, animate=False)\n",
    "    analyse_instability(128,nt=nt,a=1, ddx= nm.deriv_cent, bnd_limits=[1,1], cfl_cut=0.3, animate=True)\n",
    "    analyse_instability(128,nt=nt,a=-1,ddx= nm.deriv_cent, bnd_limits=[1,1], cfl_cut=0.3, animate=True)\n",
    "    analyse_instability(256,nt=nt,a=-1,ddx= nm.deriv_cent, bnd_limits=[1,1], cfl_cut=0.3, animate=False)\n",
    "    analyse_instability(512,nt=nt,a=-1,ddx= nm.deriv_cent, bnd_limits=[1,1], cfl_cut=0.3, animate=False)\n",
    "    analyse_instability(1028,nt=nt,a=-1,ddx= nm.deriv_cent, bnd_limits=[1,1], cfl_cut=0.3, animate=\"last\")"
   ]
  },
  {
   "attachments": {},
   "cell_type": "markdown",
   "metadata": {},
   "source": [
    "<span style=\"color:Orange\">\n",
    "\n",
    "## Comments\n",
    "For the centered difference scheme I find no configuration of parameters resulting in a stable solution. I think this is due to the time derivative and spacial derivative being evaluated at different grid points. So for the centered differencing we have to adopt another approximation for the time derivative. The result with the present scheme looks somewhat like the unstable solutions we had previously from using the non-centered schemes in the wrong direction. The propagating function develops an oscillating tail behind it self in the direction of motion, where the solution should be equal to zero. By increasing the number of grid points to 1028, we again get this \"fuzzy\" solution which is magnified exponentially."
   ]
  },
  {
   "cell_type": "markdown",
   "metadata": {},
   "source": [
    "## 3 – The stability of the non-centered finite-differences schemes"
   ]
  },
  {
   "cell_type": "markdown",
   "metadata": {},
   "source": [
    "In the previous exercises, we saw that when $a > 0$, a _backward-oriented_ finite-difference scheme yields stability. However, a crucial component in the problem was to give a specific value for $\\Delta t$, namely  $t = 0.98 x/|a|$. Would it have been wise to choose a larger or smaller $\\Delta t$? Let us check that $\\Delta t$ cannot be chosen arbitrarily large: run the program, but now writing"
   ]
  },
  {
   "cell_type": "markdown",
   "metadata": {},
   "source": [
    "1. $\\Delta t = 0.5 \\frac{\\Delta x}{a}$;\n",
    "2. $\\Delta t = 0.99 \\frac{\\Delta x}{a}$;\n",
    "3. $\\Delta t = 1.01 \\frac{\\Delta x}{a}$;\n",
    "4. $\\Delta t = 2 \\frac{\\Delta x}{a}$;"
   ]
  },
  {
   "cell_type": "markdown",
   "metadata": {},
   "source": [
    "and check if those values maintain the good stability properties of the code. For example, does there seem to be a threshold in $\\Delta t$ for the instability? Note that you need to define `cfl_cut` to 0.5, 0.99, 1.01, and 2.0."
   ]
  },
  {
   "cell_type": "code",
   "execution_count": null,
   "metadata": {},
   "outputs": [],
   "source": [
    "if __name__ == \"__main__\":\n",
    "    cfl_cuts = [0.5, 0.99,1.0, 1.01, 2.0]\n",
    "    nint = 64\n",
    "    a = 1\n",
    "    ddx = nm.deriv_dnw if a<0 else nm.deriv_upw\n",
    "    bnd_limits = [0,1] if a<0 else [1,0]\n",
    "    for cfl_cut in cfl_cuts:\n",
    "        nt = int(52/(cfl_cut*5.2/nint)) + 1 # Number of time steps for the propagating wave to travel through the domain 10 times\n",
    "        analyse_instability(nint,nt,a=a,ddx=ddx,bnd_limits=bnd_limits, cfl_cut=cfl_cut, animate=False)"
   ]
  },
  {
   "cell_type": "code",
   "execution_count": null,
   "metadata": {},
   "outputs": [],
   "source": [
    "if __name__ == \"__main__\":\n",
    "    cfl_cut = 1\n",
    "    nint = 64\n",
    "    a = 1\n",
    "    ddx = nm.deriv_dnw if a<0 else nm.deriv_upw\n",
    "    bnd_limits = [0,1] if a<0 else [1,0]\n",
    "    nt = int(52/(cfl_cut*5.2/nint)) + 1 # Number of time steps for the propagating wave to travel through the domain 10 times\n",
    "    analyse_instability(nint,nt,a=a,ddx=ddx,bnd_limits=bnd_limits, cfl_cut=cfl_cut, animate=False)"
   ]
  },
  {
   "attachments": {},
   "cell_type": "markdown",
   "metadata": {},
   "source": [
    "<span style=\"color:Orange\">\n",
    "\n",
    "## Comments\n",
    "\n",
    "The cfl cut controls whether the Courant-Friedrichs-Lewy (CFL) condition is met. By performing the Von Neumann instability analysis on these FTFS or FTBS schemes we require a $dt < \\left|\\frac{\\Delta x}{a}\\right|$. The `cfl_cut` parameter enters as a prefactor in this expression so that we are not right on the onset of instability: `dt = cfl_cut * abs(dx / a)`. With `cfl_cut = 1` we are right on this onset, so we should choose `clf_cut < 1` to be safe from round off errors accumulating over many time steps."
   ]
  },
  {
   "cell_type": "markdown",
   "metadata": {},
   "source": [
    "## 4- Optional (A). \n",
    "\n",
    "Consider now the following Burgers’ equation, i.e.,\n",
    "\n",
    "$$\\frac{\\partial u}{\\partial t} + u \\frac{\\partial u}{\\partial x} = 0   \\tag{3}$$\n",
    "\n",
    "can be seen as yet another case of the equation solved in the previous exercises of this\n",
    "series by writing:\n",
    "\n",
    "$$a(x,t,u) = u  \\tag{4}$$\n",
    "\n",
    "The importance of this equation in physics derives in part from the fact that it describes\n",
    "the motion of a non-accelerated fluid with an arbitrary velocity field at time $t = 0$ and\n",
    "because it contains the possibility of spontaneous formation of discontinuities. (\\*)\n",
    "\n",
    "We can simply solve equation (1) by modifying the program developed for the previous exercises but now writing $a(x_i, t^n) = u^n_i$. Carry out that modification, and run the program in the domain $x \\in (x_0, x_f)$ with $x_0 = −1.4$, $x_f = 2.0$ with the initial condition:\n",
    "\n",
    "$$u(x,t=0) = A\\left[\\tanh\\left(\\frac{x+x_c}{W}\\right)-\\tanh\\left(\\frac{x-x_c}{W}\\right) \\right] + B \\tag{5}$$\n",
    "\n",
    "whereby $A = 1.0$, $x_c = 0.70$, $W = 0.1$, $B = 0.3$. Let the solution evolve until time $t_f = 100$. Explain in physical (or mathematical) terms the solution you get. Change to $A = −0.02$ and explain the result. For this exercise, fill in `nm_lib` functions `evolv_uadv_burgers` and `step_uadv_burgers`. "
   ]
  },
  {
   "cell_type": "code",
   "execution_count": null,
   "metadata": {},
   "outputs": [],
   "source": [
    "def get_uadv_t0_B(xx: np.ndarray, A: float = 1.0, W: float = 0.1, B: float = 0.3, xc: float = 0.7) -> np.ndarray:\n",
    "    tanh_term = np.tanh((xx+xc)/W) - np.tanh((xx-xc)/W)\n",
    "    return A*tanh_term + B"
   ]
  },
  {
   "cell_type": "code",
   "execution_count": null,
   "metadata": {},
   "outputs": [],
   "source": [
    "if __name__ == \"__main__\":\n",
    "    x0 = -1.4\n",
    "    xf = 2.0\n",
    "    nint = 256\n",
    "    tf = 100\n",
    "    xx, _ = utils.get_xx(nint, x0, xf)\n",
    "    uut0 = get_uadv_t0_B(xx)\n",
    "    cfl_cut = 0.98\n",
    "    tt, uunt = nm.evolv_uadv_burgers(xx, uut0, ddx = lambda x,y: nm.deriv_upw(x,y), bnd_limits=[1,0], end_time=tf)\n",
    "    display(HTML(utils.animate_u(tt[::100], uunt[::100], xx).to_jshtml()))\n",
    "    plt.close()\n",
    "    uut0 = get_uadv_t0_B(xx, A=-0.02)\n",
    "    tt, uunt = nm.evolv_uadv_burgers(xx, uut0, ddx=nm.deriv_upw,bnd_limits=[1,0], end_time=tf)\n",
    "    display(HTML(utils.animate_u(tt[::100], uunt[::100], xx).to_jshtml()))\n",
    "    plt.close()"
   ]
  },
  {
   "attachments": {},
   "cell_type": "markdown",
   "metadata": {},
   "source": [
    "<span style=\"color:Orange\">\n",
    "\n",
    "### Comments\n",
    "\n",
    "For the first case with $A=1$, we see how the initial condition evolves in time by traversing in positiv direction (as the advection speed is positiv). The points on either side of the step function moving slower than the points inside the step function. As such the points that initially started with high velocity will eventually reach a boundary between points with high and low velocity and a discontinuity develops. This discontinuity travels as a shock wave, eventually forming a triangular shape with peak at the edge of the shock wave. The peak gradually loses amplitude as the wave travels due to the points behind the peak moving with lower speed than the peak it self.\n",
    "\n",
    "In the second case with $A=-0.02$, the step function takes on a \"negative\" shape, and so the sides move with a higher speed than the points inside the step. As such the shock wave develops on the left side of the step, where the sides catches up with the slower moving points inside the step. As the amplitude of the initial step function is lower in this case than the previous, we don't see the same amount of \"dampening\" of the peak of the shock wave over the same amount of time. I think this is due to the reduced amplitude difference between either side of the discontinuity and that the width of the step is the same in both cases, but the amplitude is much lower in the second case."
   ]
  },
  {
   "cell_type": "markdown",
   "metadata": {},
   "source": [
    "### Comments:\n",
    "\n",
    "In the numerical solution, we see the initial condition patently evolving into something that looks like a discontinuity. We understand that this discontinuity is formed because the characteristic curves $dx_p/dt = a(x, t, u) = u$ are more inclined (i.e., faster) in a spacetime diagram when starting at elements with larger $u$: since the solution is constant along those curves, the faster elements, therefore, catch those in front of them which have lower $u$ (as is the case in the solution you have found numerically here) – so the solution must steepen when that happens.\n",
    "\n",
    "Mathematically and physically, we should not be too surprised: we know that, for instance, in gas dynamics, weird nonlinear phenomena take place, some of which (the shocks) have to do with the formation of discontinuities or sharp transitions. Numerically, though, we ought to be rather surprised for various reasons:\n",
    "    \n",
    "a. the numerical calculation of a very large value of the derivative (as is surely the case across the big jump forming in our calculation) cannot be very accurate. It might even happen, we think, that the program crashed because of _NaNs_ or exceptions, etc, occurring in the calculation. But, in fact, our program happily calculates away ... seemingly forever.\n",
    "\n",
    "b. when a discontinuity forms, the exact mathematical solution, strictly speaking, cannot be calculated in a simple way anymore: when there is a discontinuity, one must take into account what is called the jump relations, also called internal boundary conditions, across the discontinuity: they give the mutual relation of the variables on either side of the discontinuity. A solution obtained in this way is called a __weak solution__ in mathematics.\n",
    "\n",
    "c. we finally ask ourselves what the mathematically-exact weak solution would be in this case and whether our simple numerical scheme provides a solution near the exact one despite the obvious difficulty of handling large jumps across the near-discontinuity.\n",
    "\n",
    "We have to leave these as open questions for discussion at a later point. \n",
    "\n",
    "As a final comment, consider the consequences of the fact that the acceleration in gas dynamics contains a term of the general form $u$ $du/dx$ .... Much of the beautiful physics occurring in the universe is due to non-linearities like this one."
   ]
  },
  {
   "cell_type": "markdown",
   "metadata": {},
   "source": [
    "## 4- Optional (B) \n",
    "\n",
    "For this exercise, do first [ex_4a](https://github.com/AST-Course/AST5110/blob/main/ex_4a.ipynb). \n",
    "Consider the same setup as the previous exercise. But now, solve it using the upwind method: \n",
    "\n",
    "$$u^{n+1}_j = u^{n}_j - \\frac{\\Delta t}{\\Delta x} u^{n}_j(u^{n}_j- u^{n}_{j+1})$$\n",
    "\n",
    "And using the Lax method implemented in [ex_4a](https://github.com/AST-Course/AST5110/blob/main/ex_4a.ipynb). What do you see? Argue why you think the solution is not correct. __Hint__ In the first exercise, we disccused about flux conservation."
   ]
  },
  {
   "attachments": {},
   "cell_type": "markdown",
   "metadata": {},
   "source": [
    "<span style=\"color:Orange\">\n",
    "\n",
    "### Comments\n",
    "\n",
    "Im not sure if I understood this task correctly. I interpret it this way: Using the same setup as in ex_4a, compare the Lax method and the upwind method. This means using the `*_uadv` methods and the initial condition from ex_4a. At this point I must admit I'm a bit confused, as I've been doing both this task and the last task in ex_4a more or less at the same time, so I hope I'll be able to make my self clear in the following:\n",
    "\n",
    "I've described the evolution of the Lax-method and what we expect previously and in ex_4a. Now compared to the Upwind method we see the two methods differ quite a lot, and I think this is due to the flux conservation as is kindly hinted to in the task. The Upwind method better resolves the very sharp edge formed by the discontinuity, where the Lax-method is more diffusive so the \"corners\" at the top and bottom of the shock is more curved or smooth. However, the Upwind method is not flux-conservative. As the faster moving points (starting inside the step) catch up to the slower moving points the amplitude of the traveling wave dies out as the shock wave front is not moving. The Lax-method solution on the other hand gets more and more elongated as the shock wave front travels, and the peak of the edge is not as dampened. I think this is because the Lax-method is more flux-conservative. If this was for example a wave in some incompressible fluid, the Upwind method does not conserve the mass or energy of the traversing wave, while the Lax-method seems to (at least) conserve the mass. I've tested this by simply integrating the curve over space for each time step below. As we can see, the area under the curve is constant for the Lax-method, analogous to conserving mass.\n",
    "\n",
    "I guess this is an example of the types of dilemmas we are faced with when trying to solve different types of physicals problems, there exist no perfect method for all types of problems. While the Upwind method is very stable and non-diffusive, it is not conservative - while the Lax-method is more conservative, albeit highly diffusive."
   ]
  },
  {
   "cell_type": "code",
   "execution_count": null,
   "metadata": {},
   "outputs": [],
   "source": [
    "if __name__ == \"__main__\":\n",
    "    from ex_4a import get_uadv_t0\n",
    "\n",
    "    x0 = -1.4\n",
    "    xf = 2.0\n",
    "    nint = 512\n",
    "    tf = 100\n",
    "\n",
    "    xx, dx = utils.get_xx(nint, x0, xf)\n",
    "    uut0 = get_uadv_t0(xx)\n",
    "    tt_lax, uunt_lax = nm.evolv_Lax_uadv_burgers(\n",
    "        xx, uut0, ddx=nm.deriv_cent, bnd_limits=[1, 1], cfl_cut=0.98, end_time=tf\n",
    "    )\n",
    "    tt_upw, uunt_upw = nm.evolv_uadv_burgers(xx, uut0, ddx=nm.deriv_upw, bnd_limits=[1, 0], cfl_cut=0.98, end_time=tf)\n",
    "    sol_dict = {\"Lax\": (tt_lax, uunt_lax), \"Upw\": (tt_upw, uunt_upw)}\n",
    "    display(HTML(utils.animate_us(sol_dict, tt_lax[::10], xx).to_jshtml()))\n",
    "    plt.close()\n",
    "    utils.plot_snapshot(sol_dict, xx, np.linspace(tf * 0.1, tf, 3))\n"
   ]
  },
  {
   "cell_type": "code",
   "execution_count": null,
   "metadata": {},
   "outputs": [],
   "source": [
    "if __name__ == \"__main__\":\n",
    "    from scipy.integrate import simpson\n",
    "    fig, ax = plt.subplots()\n",
    "    for name, (tt, uu) in sol_dict.items():\n",
    "        area_under_curve = simpson(uu[:,1:], xx[1:])\n",
    "        ax.plot(tt, area_under_curve, label=name)\n",
    "    ax.set_ylabel(r\"$\\int u(x,t) dx$\")\n",
    "    ax.set_xlabel(\"time\")\n",
    "    ax.legend()"
   ]
  },
  {
   "attachments": {},
   "cell_type": "markdown",
   "metadata": {},
   "source": [
    "<span style=\"color:Orange\">\n",
    "\n",
    "### Disclaimer\n",
    "\n",
    "In the above plot I integrate over space in each time step, but excluding the first index of the spacial domain. This is due to hwo the periodic boundary conditions are implemented. As we are imposing `uu[0] == uu[nump-2]` and `uu[nump-1] == uu[1]`, we have a duplicate point which sticks out when the shock wave front is right at the boundary between the left and right edge of the plot. This would not have been a problem if I also followed the other point hinted to previously, such that the left hand of the spacial domain `x=x0` coincides with `x[1]`, but I'm not sure how to implement this precisely. I think that with this hint we are including a \"ghost\" point in the left side of the domain so that the periodic boundaries is better behaved. The way I have implemented it I in a way included the ghost point as the start of my domain. I'll look into this more."
   ]
  },
  {
   "cell_type": "markdown",
   "metadata": {},
   "source": [
    "### Comments:\n",
    "    \n",
    "See [Stagger mesh](https://github.com/AST-Course/AST5110/wiki/Staggered-mesh) documentation on how a staggered mesh allows keeping the conservation. "
   ]
  },
  {
   "cell_type": "code",
   "execution_count": null,
   "metadata": {},
   "outputs": [],
   "source": []
  }
 ],
 "metadata": {
  "kernelspec": {
   "display_name": "ast9110",
   "language": "python",
   "name": "python3"
  },
  "language_info": {
   "codemirror_mode": {
    "name": "ipython",
    "version": 3
   },
   "file_extension": ".py",
   "mimetype": "text/x-python",
   "name": "python",
   "nbconvert_exporter": "python",
   "pygments_lexer": "ipython3",
   "version": "3.10.9"
  },
  "vscode": {
   "interpreter": {
    "hash": "6c9a166da8e4ec0420a7bdc4156e952a1692b305bda74516019c069456b6fa09"
   }
  }
 },
 "nbformat": 4,
 "nbformat_minor": 4
}
